{
  "nbformat": 4,
  "nbformat_minor": 0,
  "metadata": {
    "colab": {
      "provenance": [],
      "include_colab_link": true
    },
    "kernelspec": {
      "name": "python3",
      "display_name": "Python 3"
    },
    "language_info": {
      "name": "python"
    }
  },
  "cells": [
    {
      "cell_type": "markdown",
      "metadata": {
        "id": "view-in-github",
        "colab_type": "text"
      },
      "source": [
        "<a href=\"https://colab.research.google.com/github/b2221070/Prmn2023a/blob/main/PythonBasic_7_Question_ipynb_%E3%81%AE%E3%82%B3%E3%83%94%E3%83%BC.ipynb\" target=\"_parent\"><img src=\"https://colab.research.google.com/assets/colab-badge.svg\" alt=\"Open In Colab\"/></a>"
      ]
    },
    {
      "cell_type": "markdown",
      "source": [
        "# 第7章 課題"
      ],
      "metadata": {
        "id": "JR-0wWX5GOz4"
      }
    },
    {
      "cell_type": "markdown",
      "source": [
        "## 課題1"
      ],
      "metadata": {
        "id": "a-2Yu9QBGREf"
      }
    },
    {
      "cell_type": "markdown",
      "source": [
        "`ppap.txt`をアップロードしてください。  \n",
        "\n",
        "ピコ太郎さんの「PPAP」という歌の歌詞が書かれています。  \n",
        "まずはこのテキストファイルから歌詞を読み込んでください。"
      ],
      "metadata": {
        "id": "icanGSBB6KCB"
      }
    },
    {
      "cell_type": "markdown",
      "source": [
        "歌詞の単語の登場回数を数え、  \n",
        "出現回数の多い順にソートしたディクショナリを関数で返してください\n",
        "\n",
        "その後、そのディクショナリを出力してください"
      ],
      "metadata": {
        "id": "Wy8Sx90f6WTB"
      }
    },
    {
      "cell_type": "markdown",
      "source": [
        "＜実行結果＞  \n",
        "``` py\n",
        "{'pen': 8, 'i': 4, 'have': 4, 'apple': 4, 'pineapple': 4, 'a': 3, 'ppap': 1, 'an': 1}\n",
        "```"
      ],
      "metadata": {
        "id": "0Z2-_1dAQENU"
      }
    },
    {
      "cell_type": "code",
      "source": [
        "# 入力用（カウントとメイン部分）\n",
        "import string\n",
        "\n",
        "def word_count():\n",
        "  word_dic = {}\n",
        "\n",
        "  # 読み込み\n",
        "  with open(\"ppap.txt\",mode=\"r+\") as f:\n",
        "    line = f.readline()\n",
        "    # ファイルの中のテキストがなくなるまで読み込み\n",
        "    while line:\n",
        "      # \"！\"を空文字に置き換える\n",
        "      line = line.replace('！', '')\n",
        "      # \"-\"を空白に置き換える\n",
        "      line = line.replace('-', ' ')\n",
        "      # 特殊文字を除去する\n",
        "      line = line.translate(str.maketrans('', '', string.punctuation))\n",
        "\n",
        "      # メイン部分の一例\n",
        "      # 単語を小文字に変換し、「改行・空白」で文字列を分割する\n",
        "      line = line.lower().split()\n",
        "\n",
        "      for word in line:\n",
        "        if word_dic.get(word) == None:\n",
        "          word_dic[word] = 1\n",
        "        else:\n",
        "          word_dic[word] +=1\n",
        "\n",
        "      line = f.readline()\n",
        "\n",
        "\n",
        "  word_dic = dict(sorted(word_dic.items(),key = lambda line : line[1],reverse = True))\n",
        "  return word_dic\n",
        "\n",
        "\n",
        "sorted_dic = word_count()\n",
        "print(sorted_dic)"
      ],
      "metadata": {
        "colab": {
          "base_uri": "https://localhost:8080/"
        },
        "id": "BXuFntia4o-G",
        "outputId": "41296e6f-7b6f-4636-dd94-c4cf7687017a"
      },
      "execution_count": 39,
      "outputs": [
        {
          "output_type": "stream",
          "name": "stdout",
          "text": [
            "{'pen': 8, 'i': 4, 'have': 4, 'apple': 4, 'pineapple': 4, 'a': 3, 'ppap': 1, 'an': 1}\n"
          ]
        }
      ]
    },
    {
      "cell_type": "markdown",
      "source": [
        "## 課題2"
      ],
      "metadata": {
        "id": "dSQu_cY6EpMk"
      }
    },
    {
      "cell_type": "markdown",
      "source": [
        "`toukei_seiseki.txt`をアップロードしてください。\n",
        "\n",
        "とある人の統計学の成績データになります。"
      ],
      "metadata": {
        "id": "b-ekHtnVEwsO"
      }
    },
    {
      "cell_type": "markdown",
      "source": [
        "成績評価を0~5の6段階でつけたいものとします。  \n",
        "\n",
        "|成績|点数|\n",
        "|:---| :--- |\n",
        "|$A$|5|\n",
        "|$B^{+}$|4|\n",
        "|$B$|3|\n",
        "|$B^{-}$|2|\n",
        "|$C^{+}$|1|\n",
        "|$C$|0|\n"
      ],
      "metadata": {
        "id": "L3i6Z8xg9eHr"
      }
    },
    {
      "cell_type": "markdown",
      "source": [
        "上表のように成績を変換する関数を作成してください  "
      ],
      "metadata": {
        "id": "EdC2oqvr9eHs"
      }
    },
    {
      "cell_type": "markdown",
      "source": [
        "この科目は、「5×全15回=最大点75点」に、  \n",
        "「全14回×50点=最大点700点を25点に圧縮したもの」の和によって成績判定を行います。"
      ],
      "metadata": {
        "id": "CbT-Ni7g9eHs"
      }
    },
    {
      "cell_type": "markdown",
      "source": [
        "適切に関数を使い、以下のデータの成績評価を行えるようにしてください\n",
        "\n",
        "\n"
      ],
      "metadata": {
        "id": "lrIoPU8b9eHs"
      }
    },
    {
      "cell_type": "markdown",
      "source": [
        "＜例＞  \n",
        "小テストの合計点は600点だったので25点満点に圧縮すると21.42点  \n",
        "課題は全て$B^+$評価だったので4×15=60点  \n",
        "合計点81.42点なので評定は「優」"
      ],
      "metadata": {
        "id": "-QKViYIF9eHt"
      }
    },
    {
      "cell_type": "code",
      "source": [
        "# 入力用\n",
        "# データの読み込み\n",
        "\n",
        "kadai = []\n",
        "minitest = []\n",
        "key = 0\n",
        "with open(\"toukei_seiseki.txt\", mode=\"r+\") as f:\n",
        "    line = f.readline()\n",
        "    line = f.readline()\n",
        "    line = f.readline()\n",
        "    # ファイルの中のテキストがなくなるまで読み込み\n",
        "    while line:\n",
        "        if key == 0:\n",
        "            kadai.append(line.split()[1])\n",
        "            key = 1\n",
        "        else:\n",
        "            if len(line.split()) >= 3:\n",
        "                kadai.append(line.split()[1])\n",
        "                minitest.append(int(line.split()[2]))\n",
        "        line = f.readline()\n",
        "\n",
        "print(kadai)\n",
        "print(minitest)"
      ],
      "metadata": {
        "id": "vZ1lU1LLGX2j",
        "colab": {
          "base_uri": "https://localhost:8080/"
        },
        "outputId": "5d19e95d-4629-4101-bcac-b458d6a7b947"
      },
      "execution_count": 87,
      "outputs": [
        {
          "output_type": "stream",
          "name": "stdout",
          "text": [
            "['B+', 'A', 'B+', 'A', 'A', 'A', 'A', 'A', 'B+', 'A', 'A', 'B+', 'A', 'B+', 'A']\n",
            "[50, 50, 50, 15, 40, 50, 50, 50, 50, 15, 45, 40, 50, 50]\n"
          ]
        }
      ]
    },
    {
      "cell_type": "code",
      "source": [
        "# 参考 成績データの空ディクショナリ\n",
        "seiseki_data = {\"課題\":[],\"小テスト\":[]}\n",
        "seiseki_data[\"課題\"] = kadai\n",
        "seiseki_data[\"小テスト\"] = minitest\n",
        "print(seiseki_data)"
      ],
      "metadata": {
        "id": "B6heQ-a8Fk2C",
        "colab": {
          "base_uri": "https://localhost:8080/"
        },
        "outputId": "5ab464ea-d321-43eb-caf6-da25617380fa"
      },
      "execution_count": 84,
      "outputs": [
        {
          "output_type": "stream",
          "name": "stdout",
          "text": [
            "{'課題': ['B+', 'A', 'B+', 'A', 'A', 'A', 'A', 'A', 'B+', 'A', 'A', 'B+', 'A', 'B+', 'A'], '小テスト': [50, 50, 50, 15, 40, 50, 50, 50, 50, 15, 45, 40, 50, 50]}\n"
          ]
        }
      ]
    },
    {
      "cell_type": "code",
      "source": [
        "def hantei(seiseki_data):\n",
        "  kadai_sum = 0\n",
        "  test_sum = 0\n",
        "  for i in seiseki_data['課題']:\n",
        "    if i ==\"A\":\n",
        "      kadai_sum +=5\n",
        "    elif i==\"B+\":\n",
        "      kadai_sum +=4\n",
        "    elif i == \"B\":\n",
        "      kadai_sum += 3\n",
        "    elif i ==\"B-\":\n",
        "      kadai_sum +=2\n",
        "    elif i ==\"C\":\n",
        "      kadai_sum +=1\n",
        "\n",
        "  for i in seiseki_data[\"小テスト\"]:\n",
        "    test_sum += i\n",
        "  sum = kadai_sum + 25/700*test_sum\n",
        "\n",
        "  if sum<60:\n",
        "    kekka = \"不可\"\n",
        "  elif sum<70:\n",
        "    kekka = \"可\"\n",
        "  elif sum<80:\n",
        "    kekka = \"良\"\n",
        "  elif sum<90:\n",
        "    kekka = \"優\"\n",
        "  else:\n",
        "    kekka = \"秀\"\n",
        "\n",
        "  return kekka\n",
        "score = hantei(seiseki_data)\n",
        "print(score)"
      ],
      "metadata": {
        "colab": {
          "base_uri": "https://localhost:8080/"
        },
        "id": "8GTdjjO98TXz",
        "outputId": "f0e4183f-5eef-4ea0-c3d4-5b04199b52f8"
      },
      "execution_count": 85,
      "outputs": [
        {
          "output_type": "stream",
          "name": "stdout",
          "text": [
            "秀\n"
          ]
        }
      ]
    },
    {
      "cell_type": "markdown",
      "source": [
        "### 課題2 補足"
      ],
      "metadata": {
        "id": "E8ZRqBlkGW2D"
      }
    },
    {
      "cell_type": "markdown",
      "source": [
        "文字列を置換したいときは**`replace`メソッド**を使います。  \n",
        "\n",
        "複数回行いたいときは`replace`メソッドを複数回続けます。"
      ],
      "metadata": {
        "id": "s4IPiuNZGd96"
      }
    },
    {
      "cell_type": "code",
      "source": [
        "hantei_list = [\"60\",\"70\",\"80\",\"90\"]\n",
        "kekka_list = []\n",
        "\n",
        "\"\"\"\n",
        "リストから要素を取り出して指定の値を置換する\n",
        "\"\"\"\n",
        "for hantei in hantei_list:\n",
        "  hantei = hantei.replace(\"60\",\"可\").replace(\"70\",\"良\").replace(\"80\",\"優\").replace(\"90\",\"秀\")\n",
        "  kekka_list.append(hantei)\n",
        "\n",
        "print(kekka_list)"
      ],
      "metadata": {
        "colab": {
          "base_uri": "https://localhost:8080/"
        },
        "id": "83OyhJkDGupg",
        "outputId": "8fb4e540-9824-4e74-f524-c017e8377885"
      },
      "execution_count": 11,
      "outputs": [
        {
          "output_type": "stream",
          "name": "stdout",
          "text": [
            "['可', '良', '優', '秀']\n"
          ]
        }
      ]
    },
    {
      "cell_type": "markdown",
      "source": [
        "## 課題3"
      ],
      "metadata": {
        "id": "ImanFioRIU6F"
      }
    },
    {
      "cell_type": "markdown",
      "source": [
        "`all_seiseki.txt`をアップロードしてください。\n",
        "\n",
        "とある人の2年春学期までの成績データになります。"
      ],
      "metadata": {
        "id": "9Q_HBLgfIXVf"
      }
    },
    {
      "cell_type": "markdown",
      "source": [
        "GPAを計算したいものとします。  \n",
        "成績に付与されるGPは以下の通りです。\n",
        "\n",
        "|成績|GP|\n",
        "|:---| :--- |\n",
        "|秀|4|\n",
        "|優|3|\n",
        "|良|2|\n",
        "|可|1|\n",
        "|不可|0|"
      ],
      "metadata": {
        "id": "wimEVJZUMWoL"
      }
    },
    {
      "cell_type": "markdown",
      "source": [
        "上表のように成績を変換する関数を作成してください"
      ],
      "metadata": {
        "id": "vLfMefKLNZsq"
      }
    },
    {
      "cell_type": "markdown",
      "source": [
        "GPAの計算式は以下の通りです。  \n",
        "$$\n",
        "GPA = \\frac{(GP×そのGPの単位数) の合計}{履修単位数}\n",
        "$$"
      ],
      "metadata": {
        "id": "pJ-Cltm9NbZ6"
      }
    },
    {
      "cell_type": "markdown",
      "source": [
        "適切に関数を使い、テキストデータのGPAを算出してください"
      ],
      "metadata": {
        "id": "k_jm9pzkOFAw"
      }
    },
    {
      "cell_type": "code",
      "source": [
        "# 入力用\n",
        "classes = []\n",
        "score = []\n",
        "units = []\n",
        "one_unit_class =[]\n",
        "\n",
        "with open(\"all_seiseki.txt\", mode=\"r+\") as f:\n",
        "    line = f.readline()\n",
        "    line = f.readline()\n",
        "    # ファイルの中のテキストがなくなるまで読み込み\n",
        "    while line:\n",
        "      if len(line.split()) >=6:\n",
        "          classes.append(line.split()[3])\n",
        "          score.append(line.split()[4])\n",
        "          units.append(int(line.split()[5]))\n",
        "      line = f.readline()\n",
        "\n",
        "print(classes)\n",
        "print(score)\n",
        "print(units)\n",
        "\n",
        "seiseki_data = {\"授業\":[],\"成績\":[]}\n",
        "seiseki_data['授業'] = classes\n",
        "seiseki_data['成績'] = score\n",
        "for i in range(len(units)):\n",
        "  if units[i]==1:\n",
        "    one_unit_class.append(classes[i])\n",
        "\n",
        "print(one_unit_class)"
      ],
      "metadata": {
        "id": "4_KjT73rJAkT",
        "colab": {
          "base_uri": "https://localhost:8080/"
        },
        "outputId": "b876aa3b-edb4-421c-dcd5-639fce2c02e2"
      },
      "execution_count": 112,
      "outputs": [
        {
          "output_type": "stream",
          "name": "stdout",
          "text": [
            "['プログラミングとアルゴリズム基礎', '電子回路（Ａ・Ｂ）', '情報アーキテクチャ（Ａ・Ｂ）', 'データサイエンス入門', '理工学基礎実験２（Ａ）', 'オプティクス（Ａ・Ｂ）', '工学基礎数学（Ａ・Ｂ）', '情報通信基礎（Ａ・Ｂ）', '情報技術概論(Ａ・Ｂ)', '物理学入門(Ａ・Ｂ)', '化学入門(Ａ・Ｂ)', 'エレクトロニクス入門(Ａ・Ｂ)', '情報学基礎演習(Ａ)', 'キャリア形成Ａ１（Ａ）', 'キャリア形成Ａ２(Ａ・Ｂ)', '千歳学(Ａ)', '言語リテラシー１(Ａ)', '言語リテラシー２(Ａ)', '地域課題プロジェクト(Ａ)', '微分積分学Ⅰ（Ａ）', '理工学基礎実験１（Ａ）', 'エレクトロニクス基礎(Ａ・Ｂ)', 'データ活用基礎(Ａ・Ｂ)', '線形代数学Ⅰ(Ａ・Ｂ)', '微分積分学Ⅱ（Ａ）', '理系のための基礎英語Ⅰ(Ａ)', '理系のための基礎英語Ⅱ(Ａ)', '日本国憲法(遠隔)', '人と社会', '心理学入門（遠隔）', '物理学基礎(Ａ・Ｂ)', '情報学(Ａ・Ｂ)', 'スポーツ総合１(Ａ)', 'スポーツ総合２(Ａ)', '健康科学(Ａ・Ｂ)']\n",
            "['優', '良', '優', '秀', '優', '優', '優', '秀', '秀', '良', '秀', '秀', '秀', '秀', '秀', '秀', '秀', '優', '秀', '優', '優', '秀', '優', '優', '良', '秀', '秀', '秀', '可', '優', '優', '優', '優', '秀', '優']\n",
            "[2, 2, 2, 2, 2, 2, 2, 2, 2, 2, 2, 2, 2, 1, 1, 1, 1, 1, 1, 2, 2, 2, 2, 2, 2, 2, 2, 2, 2, 2, 2, 2, 1, 1, 1]\n",
            "['キャリア形成Ａ１（Ａ）', 'キャリア形成Ａ２(Ａ・Ｂ)', '千歳学(Ａ)', '言語リテラシー１(Ａ)', '言語リテラシー２(Ａ)', '地域課題プロジェクト(Ａ)', 'スポーツ総合１(Ａ)', 'スポーツ総合２(Ａ)', '健康科学(Ａ・Ｂ)']\n"
          ]
        }
      ]
    },
    {
      "cell_type": "code",
      "source": [
        "def seiseki(one_unit_class,seiseki_data):\n",
        "  hyouka = dict(zip(seiseki_data['授業'],seiseki_data['成績']))\n",
        "  seiseki_sum = 0\n",
        "  tannisu =0\n",
        "  for key in hyouka.keys():\n",
        "    hyouka[key] = hyouka[key].replace(\"不可\",\"0\").replace(\"可\",\"1\").replace(\"良\",\"2\").replace(\"優\",\"3\").replace(\"秀\",\"4\")\n",
        "    if key in one_unit_class:\n",
        "      seiseki_sum += int(hyouka[key])\n",
        "      tannisu += 1\n",
        "    else:\n",
        "      seiseki_sum += 2*int(hyouka[key])\n",
        "      tannisu += 2\n",
        "\n",
        "  return seiseki_sum/tannisu\n",
        "\n",
        "gpa = seiseki(one_unit_class,seiseki_data)\n",
        "print(f\"GPA = {gpa}\")"
      ],
      "metadata": {
        "colab": {
          "base_uri": "https://localhost:8080/"
        },
        "id": "ucUhVrKyKB5Y",
        "outputId": "e5a1ff24-d00f-41ec-c52d-612ce8f8de31"
      },
      "execution_count": 111,
      "outputs": [
        {
          "output_type": "stream",
          "name": "stdout",
          "text": [
            "GPA = 3.262295081967213\n"
          ]
        }
      ]
    },
    {
      "cell_type": "code",
      "source": [
        "# 参考 1単位の授業をまとめたリスト\n",
        "one_unit_class = []"
      ],
      "metadata": {
        "id": "LiCCAoDqJA5r"
      },
      "execution_count": 107,
      "outputs": []
    },
    {
      "cell_type": "code",
      "source": [
        "# 参考 成績データの空ディクショナリ\n",
        "seiseki_data = {\"授業\":[],\"成績\":[]}"
      ],
      "metadata": {
        "id": "AUVzFPP1JJlO"
      },
      "execution_count": 104,
      "outputs": []
    }
  ]
}