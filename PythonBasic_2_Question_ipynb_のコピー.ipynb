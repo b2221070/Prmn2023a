{
  "nbformat": 4,
  "nbformat_minor": 0,
  "metadata": {
    "colab": {
      "provenance": [],
      "include_colab_link": true
    },
    "kernelspec": {
      "name": "python3",
      "display_name": "Python 3"
    },
    "language_info": {
      "name": "python"
    }
  },
  "cells": [
    {
      "cell_type": "markdown",
      "metadata": {
        "id": "view-in-github",
        "colab_type": "text"
      },
      "source": [
        "<a href=\"https://colab.research.google.com/github/b2221070/Prmn2023a/blob/main/PythonBasic_2_Question_ipynb_%E3%81%AE%E3%82%B3%E3%83%94%E3%83%BC.ipynb\" target=\"_parent\"><img src=\"https://colab.research.google.com/assets/colab-badge.svg\" alt=\"Open In Colab\"/></a>"
      ]
    },
    {
      "cell_type": "markdown",
      "source": [
        "# 第2章 課題"
      ],
      "metadata": {
        "id": "C44SsXDACtHu"
      }
    },
    {
      "cell_type": "markdown",
      "source": [
        "## 課題1"
      ],
      "metadata": {
        "id": "OnkezWHRCwr9"
      }
    },
    {
      "cell_type": "markdown",
      "source": [
        "for文を使って、以下のように出力してください"
      ],
      "metadata": {
        "id": "q32rK-cECzCl"
      }
    },
    {
      "cell_type": "markdown",
      "source": [
        "![oSFeQoX.png](https://i.imgur.com/oSFeQoX.png)"
      ],
      "metadata": {
        "id": "FxMcxznVB6cI"
      }
    },
    {
      "cell_type": "code",
      "source": [
        "for i in range(4):\n",
        "  k = 4-i\n",
        "  for l in range(k):\n",
        "    print(\" \",end = \"\")\n",
        "  for m in range (2*i+1):\n",
        "    print(\"*\",end=\"\")\n",
        "  for n in range(k):\n",
        "    print(\" \",end=\"\")\n",
        "  print()"
      ],
      "metadata": {
        "id": "iBFSsrdRC5Zt",
        "colab": {
          "base_uri": "https://localhost:8080/"
        },
        "outputId": "6d26e18c-3a85-4804-e6a2-2b9f3136d2b0"
      },
      "execution_count": null,
      "outputs": [
        {
          "output_type": "stream",
          "name": "stdout",
          "text": [
            "    *    \n",
            "   ***   \n",
            "  *****  \n",
            " ******* \n"
          ]
        }
      ]
    },
    {
      "cell_type": "markdown",
      "source": [
        "## 課題2"
      ],
      "metadata": {
        "id": "gIn-UqGTCagu"
      }
    },
    {
      "cell_type": "markdown",
      "source": [
        "課題1の場合を`n=4`として、nを自分で設定して出力できるようにしてください"
      ],
      "metadata": {
        "id": "ltdiEdqYDFy8"
      }
    },
    {
      "cell_type": "markdown",
      "source": [
        "＜例＞ n=5の場合  \n",
        "![o5NjugQ.png](https://imgur.com/o5NjugQ.png)"
      ],
      "metadata": {
        "id": "hw0FM8BRDHz1"
      }
    },
    {
      "cell_type": "code",
      "source": [
        "n = int(input(\"n:\"))\n",
        "for i in range(n):\n",
        "  k = n-i-1\n",
        "  for l in range(k):\n",
        "    print(\" \",end = \"\")\n",
        "  for m in range (2*i+1):\n",
        "    print(\"*\",end=\"\")\n",
        "  for o in range(k):\n",
        "    print(\" \",end=\"\")\n",
        "  print()"
      ],
      "metadata": {
        "id": "upd76Tv-FrIB",
        "colab": {
          "base_uri": "https://localhost:8080/"
        },
        "outputId": "d0bd1f4d-a77a-4c5d-987c-472157af07c6"
      },
      "execution_count": null,
      "outputs": [
        {
          "output_type": "stream",
          "name": "stdout",
          "text": [
            "n:7\n",
            "      *      \n",
            "     ***     \n",
            "    *****    \n",
            "   *******   \n",
            "  *********  \n",
            " *********** \n",
            "*************\n"
          ]
        }
      ]
    },
    {
      "cell_type": "markdown",
      "source": [
        "## 課題3"
      ],
      "metadata": {
        "id": "tLMJvwBDE7wT"
      }
    },
    {
      "cell_type": "markdown",
      "source": [
        "for文を使って、以下のように出力してください"
      ],
      "metadata": {
        "id": "vZNvWsG7E99q"
      }
    },
    {
      "cell_type": "markdown",
      "source": [
        "![oSirXec.png](https://imgur.com/oSirXec.png)"
      ],
      "metadata": {
        "id": "ijOV-ilXGDNR"
      }
    },
    {
      "cell_type": "code",
      "source": [
        "n = 4\n",
        "for i in range(n):\n",
        "  k = n-i-1\n",
        "  for l in range(k):\n",
        "    print(\" \",end = \"\")\n",
        "  for m in range (2*i+1):\n",
        "    print(\"*\",end=\"\")\n",
        "  for o in range(k):\n",
        "    print(\" \",end=\"\")\n",
        "  print()\n",
        "\n",
        "for i in range(n-2,-1,-1):\n",
        "  k = n-i-1\n",
        "  for l in range(k):\n",
        "    print(\" \",end = \"\")\n",
        "  for m in range (2*i+1):\n",
        "    print(\"*\",end=\"\")\n",
        "  for o in range(k):\n",
        "    print(\" \",end=\"\")\n",
        "  print()"
      ],
      "metadata": {
        "id": "Q5Ob9uZpGIE3",
        "colab": {
          "base_uri": "https://localhost:8080/"
        },
        "outputId": "5d3618c6-3ab8-4c35-e763-9bedb0f17551"
      },
      "execution_count": 4,
      "outputs": [
        {
          "output_type": "stream",
          "name": "stdout",
          "text": [
            "   *   \n",
            "  ***  \n",
            " ***** \n",
            "*******\n",
            " ***** \n",
            "  ***  \n",
            "   *   \n"
          ]
        }
      ]
    },
    {
      "cell_type": "markdown",
      "source": [
        "## 課題4"
      ],
      "metadata": {
        "id": "Oh7whOPkGQ3I"
      }
    },
    {
      "cell_type": "markdown",
      "source": [
        "課題3の場合を`n=4`として、nを自分で設定して出力できるようにしてください"
      ],
      "metadata": {
        "id": "PnvT8MQbGS03"
      }
    },
    {
      "cell_type": "markdown",
      "source": [
        "＜例＞ n=5の場合  \n",
        "\n",
        "![my4J17V.png](https://i.imgur.com/my4J17V.png)"
      ],
      "metadata": {
        "id": "ZujkAbVMGzhn"
      }
    },
    {
      "cell_type": "code",
      "source": [
        "n = int(input(\"n:\"))\n",
        "for i in range(n):\n",
        "  k = n-i-1\n",
        "  for l in range(k):\n",
        "    print(\" \",end = \"\")\n",
        "  for m in range (2*i+1):\n",
        "    print(\"*\",end=\"\")\n",
        "  for o in range(k):\n",
        "    print(\" \",end=\"\")\n",
        "  print()\n",
        "\n",
        "for i in range(n-2,-1,-1):\n",
        "  k = n-i-1\n",
        "  for l in range(k):\n",
        "    print(\" \",end = \"\")\n",
        "  for m in range (2*i+1):\n",
        "    print(\"*\",end=\"\")\n",
        "  for o in range(k):\n",
        "    print(\" \",end=\"\")\n",
        "  print()"
      ],
      "metadata": {
        "id": "hCFNQ7mWG99u",
        "colab": {
          "base_uri": "https://localhost:8080/"
        },
        "outputId": "e668d0b5-b54f-430e-ca8c-4a45a1689248"
      },
      "execution_count": 3,
      "outputs": [
        {
          "output_type": "stream",
          "name": "stdout",
          "text": [
            "n:5\n",
            "    *    \n",
            "   ***   \n",
            "  *****  \n",
            " ******* \n",
            "*********\n",
            " ******* \n",
            "  *****  \n",
            "   ***   \n",
            "    *    \n"
          ]
        }
      ]
    },
    {
      "cell_type": "markdown",
      "source": [
        "## 課題5"
      ],
      "metadata": {
        "id": "R2MvOK4wHJlK"
      }
    },
    {
      "cell_type": "markdown",
      "source": [
        "for文を使って、以下のように出力してください"
      ],
      "metadata": {
        "id": "ddMIUoaKHcwd"
      }
    },
    {
      "cell_type": "markdown",
      "source": [
        "![vDUi5eM.png](https://imgur.com/vDUi5eM.png)"
      ],
      "metadata": {
        "id": "CD1cVUlWHLVO"
      }
    },
    {
      "cell_type": "code",
      "source": [
        "n = 4\n",
        "m = 2\n",
        "for i in range(n):\n",
        "  k = n - i - 1\n",
        "  for j in range(m):\n",
        "    if j != 0 :\n",
        "      for l in range(k-1):\n",
        "        print(\" \", end=\"\")\n",
        "      if i == n-1 and j != 0:\n",
        "        for p in range(2*i):\n",
        "          print(\"*\",end=\"\")\n",
        "      else:\n",
        "        for p in range(2 * i+1):\n",
        "          print(\"*\", end=\"\")\n",
        "      for o in range(k):\n",
        "        print(\" \", end=\"\")\n",
        "    else:\n",
        "      for l in range(k):\n",
        "        print(\" \", end=\"\")\n",
        "      for p in range(2 * i+1):\n",
        "        print(\"*\", end=\"\")\n",
        "      for o in range(k):\n",
        "        print(\" \", end=\"\") \n",
        "  print()\n",
        "\n",
        "for i in range(n - 2, -1, -1):\n",
        "  k = n - i - 1\n",
        "  for j in range(m):\n",
        "    if j != 0:\n",
        "      for l in range(k-1):\n",
        "        print(\" \", end=\"\")\n",
        "      for p in range(2 * i + 1):\n",
        "        print(\"*\", end=\"\")\n",
        "      for o in range(k-1):\n",
        "        print(\" \", end=\"\")\n",
        "    else:\n",
        "      for l in range(k):\n",
        "        print(\" \", end=\"\")\n",
        "      for p in range(2 * i + 1):\n",
        "        print(\"*\", end=\"\")\n",
        "      for o in range(k):\n",
        "        print(\" \", end=\"\")\n",
        "  print()\n"
      ],
      "metadata": {
        "id": "1pDkfJpUHd93",
        "colab": {
          "base_uri": "https://localhost:8080/"
        },
        "outputId": "ea9de0af-1174-45b6-9fc3-8db1c73ec70e"
      },
      "execution_count": 5,
      "outputs": [
        {
          "output_type": "stream",
          "name": "stdout",
          "text": [
            "   *     *   \n",
            "  ***   ***  \n",
            " ***** ***** \n",
            "*************\n",
            " ***** *****\n",
            "  ***   *** \n",
            "   *     *  \n"
          ]
        }
      ]
    },
    {
      "cell_type": "markdown",
      "source": [
        "## 課題6"
      ],
      "metadata": {
        "id": "oubbafOBHerl"
      }
    },
    {
      "cell_type": "markdown",
      "source": [
        "課題5の場合を`n=4`として、nを自分で設定して出力できるようにしてください"
      ],
      "metadata": {
        "id": "7SzgFdC-HzG9"
      }
    },
    {
      "cell_type": "markdown",
      "source": [
        "＜例＞ n=5の場合  \n",
        "\n",
        "![udkVlYG.png](https://imgur.com/udkVlYG.png)"
      ],
      "metadata": {
        "id": "LY8g9PVPH2OW"
      }
    },
    {
      "cell_type": "code",
      "source": [
        "n = int(input(\"段数:\"))\n",
        "m = 2\n",
        "for i in range(n):\n",
        "  k = n - i - 1\n",
        "  for j in range(m):\n",
        "    if j != 0 :\n",
        "      for l in range(k-1):\n",
        "        print(\" \", end=\"\")\n",
        "      if i == n-1 and j != 0:\n",
        "        for p in range(2*i):\n",
        "          print(\"*\",end=\"\")\n",
        "      else:\n",
        "        for p in range(2 * i+1):\n",
        "          print(\"*\", end=\"\")\n",
        "      for o in range(k):\n",
        "        print(\" \", end=\"\")\n",
        "    else:\n",
        "      for l in range(k):\n",
        "        print(\" \", end=\"\")\n",
        "      for p in range(2 * i+1):\n",
        "        print(\"*\", end=\"\")\n",
        "      for o in range(k):\n",
        "        print(\" \", end=\"\") \n",
        "  print()\n",
        "\n",
        "for i in range(n - 2, -1, -1):\n",
        "  k = n - i - 1\n",
        "  for j in range(m):\n",
        "    if j != 0:\n",
        "      for l in range(k-1):\n",
        "        print(\" \", end=\"\")\n",
        "      for p in range(2 * i + 1):\n",
        "        print(\"*\", end=\"\")\n",
        "      for o in range(k-1):\n",
        "        print(\" \", end=\"\")\n",
        "    else:\n",
        "      for l in range(k):\n",
        "        print(\" \", end=\"\")\n",
        "      for p in range(2 * i + 1):\n",
        "        print(\"*\", end=\"\")\n",
        "      for o in range(k):\n",
        "        print(\" \", end=\"\")\n",
        "  print()\n"
      ],
      "metadata": {
        "id": "XZOK5ulbH-tu",
        "colab": {
          "base_uri": "https://localhost:8080/"
        },
        "outputId": "b9abd3a3-ab80-4b2c-a4ec-0d7fc1c8d161"
      },
      "execution_count": 1,
      "outputs": [
        {
          "output_type": "stream",
          "name": "stdout",
          "text": [
            "段数:5\n",
            "個数:2\n",
            "    *       *    \n",
            "   ***     ***   \n",
            "  *****   *****  \n",
            " ******* ******* \n",
            "*****************\n",
            " ******* *******\n",
            "  *****   ***** \n",
            "   ***     ***  \n",
            "    *       *   \n"
          ]
        }
      ]
    },
    {
      "cell_type": "markdown",
      "source": [
        "## 課題7"
      ],
      "metadata": {
        "id": "ouqTUmPQIKGF"
      }
    },
    {
      "cell_type": "markdown",
      "source": [
        "for文を使って、以下のように出力してください"
      ],
      "metadata": {
        "id": "WHSxdOHuIMRM"
      }
    },
    {
      "cell_type": "markdown",
      "source": [
        "![IuP0M16.png](https://imgur.com/IuP0M16.png)"
      ],
      "metadata": {
        "id": "-G--WFTkIM8s"
      }
    },
    {
      "cell_type": "code",
      "source": [
        "n = 4\n",
        "m = 2\n",
        "\n",
        "for h in range(2):\n",
        "  if h == 0:\n",
        "    for i in range(n):\n",
        "      k = n - i - 1\n",
        "      for j in range(m):\n",
        "        if j != 0 :\n",
        "          for l in range(k-1):\n",
        "            print(\" \", end=\"\")\n",
        "          if i == n-1 and j != 0:\n",
        "            for p in range(2*i):\n",
        "              print(\"*\",end=\"\")\n",
        "          else:\n",
        "            for p in range(2 * i+1):\n",
        "              print(\"*\", end=\"\")\n",
        "          for o in range(k):\n",
        "            print(\" \", end=\"\")\n",
        "        else:\n",
        "          for l in range(k):\n",
        "            print(\" \", end=\"\")\n",
        "          for p in range(2 * i+1):\n",
        "            print(\"*\", end=\"\")\n",
        "          for o in range(k):\n",
        "            print(\" \", end=\"\") \n",
        "      print()\n",
        "  if h == 1:\n",
        "    for i in range(1,n):\n",
        "      k = n - i - 1\n",
        "      for j in range(m):\n",
        "        if j != 0 :\n",
        "          for l in range(k-1):\n",
        "            print(\" \", end=\"\")\n",
        "          if i == n-1 and j != 0:\n",
        "            for p in range(2*i):\n",
        "              print(\"*\",end=\"\")\n",
        "          else:\n",
        "            for p in range(2 * i+1):\n",
        "              print(\"*\", end=\"\")\n",
        "          for o in range(k):\n",
        "            print(\" \", end=\"\")\n",
        "        else:\n",
        "          for l in range(k):\n",
        "            print(\" \", end=\"\")\n",
        "          for p in range(2 * i+1):\n",
        "            print(\"*\", end=\"\")\n",
        "          for o in range(k):\n",
        "            print(\" \", end=\"\") \n",
        "      print()\n",
        "\n",
        "  for i in range(n - 2, -1, -1):\n",
        "    k = n - i - 1\n",
        "    for j in range(m):\n",
        "      if j != 0:\n",
        "        for l in range(k-1):\n",
        "          print(\" \", end=\"\")\n",
        "        for p in range(2 * i + 1):\n",
        "          print(\"*\", end=\"\")\n",
        "        for o in range(k-1):\n",
        "          print(\" \", end=\"\")\n",
        "      else:\n",
        "        for l in range(k):\n",
        "          print(\" \", end=\"\")\n",
        "        for p in range(2 * i + 1):\n",
        "          print(\"*\", end=\"\")\n",
        "        for o in range(k):\n",
        "          print(\" \", end=\"\")\n",
        "    print()\n"
      ],
      "metadata": {
        "id": "BVXjDteuIijL",
        "colab": {
          "base_uri": "https://localhost:8080/"
        },
        "outputId": "a335d481-08fe-4dbf-e5d2-49ccd820d5f2"
      },
      "execution_count": 6,
      "outputs": [
        {
          "output_type": "stream",
          "name": "stdout",
          "text": [
            "   *     *   \n",
            "  ***   ***  \n",
            " ***** ***** \n",
            "*************\n",
            " ***** *****\n",
            "  ***   *** \n",
            "   *     *  \n",
            "  ***   ***  \n",
            " ***** ***** \n",
            "*************\n",
            " ***** *****\n",
            "  ***   *** \n",
            "   *     *  \n"
          ]
        }
      ]
    },
    {
      "cell_type": "markdown",
      "source": [
        "## 課題8"
      ],
      "metadata": {
        "id": "31u0ExX2IjWj"
      }
    },
    {
      "cell_type": "markdown",
      "source": [
        "課題7の場合を`n=4`として、nを自分で設定して出力できるようにしてください"
      ],
      "metadata": {
        "id": "zeOvmKarInpz"
      }
    },
    {
      "cell_type": "markdown",
      "source": [
        "＜例＞ n=5の場合  \n",
        "\n",
        "![AlTnu1k.png](https://imgur.com/AlTnu1k.png)"
      ],
      "metadata": {
        "id": "2uLR5sbKIov2"
      }
    },
    {
      "cell_type": "code",
      "source": [
        "n = int(input(\"段数:\"))\n",
        "m = 2 #横方向の繰り返し回数\n",
        "t=2 #縦方向の繰り返し回数\n",
        "\n",
        "for h in range(t):#縦のループ\n",
        "  if h == 0: #一番上の段\n",
        "    for i in range(n):\n",
        "      k = n - i - 1\n",
        "      for j in range(m):\n",
        "        if j != 0 :\n",
        "          for l in range(k-1):\n",
        "            print(\" \", end=\"\")\n",
        "          if i == n-1 and j != 0:\n",
        "            for p in range(2*i):\n",
        "              print(\"*\",end=\"\")\n",
        "          else:\n",
        "            for p in range(2 * i+1):\n",
        "              print(\"*\", end=\"\")\n",
        "          for o in range(k):\n",
        "            print(\" \", end=\"\")\n",
        "        else:\n",
        "          for l in range(k):\n",
        "            print(\" \", end=\"\")\n",
        "          for p in range(2 * i+1):\n",
        "            print(\"*\", end=\"\")\n",
        "          for o in range(k):\n",
        "            print(\" \", end=\"\") \n",
        "      print()\n",
        "  if h != 0:\n",
        "    for i in range(1,n):\n",
        "      k = n - i - 1\n",
        "      for j in range(m):\n",
        "        if j != 0 :\n",
        "          for l in range(k-1):\n",
        "            print(\" \", end=\"\")\n",
        "          if i == n-1 and j != 0:\n",
        "            for p in range(2*i):\n",
        "              print(\"*\",end=\"\")\n",
        "          else:\n",
        "            for p in range(2 * i+1):\n",
        "              print(\"*\", end=\"\")\n",
        "          for o in range(k):\n",
        "            print(\" \", end=\"\")\n",
        "        else:\n",
        "          for l in range(k):\n",
        "            print(\" \", end=\"\")\n",
        "          for p in range(2 * i+1):\n",
        "            print(\"*\", end=\"\")\n",
        "          for o in range(k):\n",
        "            print(\" \", end=\"\") \n",
        "      print()\n",
        "\n",
        "  for i in range(n - 2, -1, -1): #下の段\n",
        "    k = n - i - 1 #スペース数\n",
        "    for j in range(m):\n",
        "      if j != 0: #一番左じゃないやつ（スペースを減らす）\n",
        "        for l in range(k-1):\n",
        "          print(\" \", end=\"\")\n",
        "        for p in range(2 * i + 1):\n",
        "          print(\"*\", end=\"\")\n",
        "        for o in range(k-1):\n",
        "          print(\" \", end=\"\")\n",
        "      else: #左\n",
        "        for l in range(k):\n",
        "          print(\" \", end=\"\")\n",
        "        for p in range(2 * i + 1):\n",
        "          print(\"*\", end=\"\")\n",
        "        for o in range(k):\n",
        "          print(\" \", end=\"\")\n",
        "    print()\n"
      ],
      "metadata": {
        "id": "TXJaIVbYI_Cd",
        "colab": {
          "base_uri": "https://localhost:8080/"
        },
        "outputId": "0fa5ef3b-ec81-44b4-ea37-e67326822cf5"
      },
      "execution_count": 3,
      "outputs": [
        {
          "output_type": "stream",
          "name": "stdout",
          "text": [
            "段数:5\n",
            "    *       *    \n",
            "   ***     ***   \n",
            "  *****   *****  \n",
            " ******* ******* \n",
            "*****************\n",
            " ******* *******\n",
            "  *****   ***** \n",
            "   ***     ***  \n",
            "    *       *   \n",
            "   ***     ***   \n",
            "  *****   *****  \n",
            " ******* ******* \n",
            "*****************\n",
            " ******* *******\n",
            "  *****   ***** \n",
            "   ***     ***  \n",
            "    *       *   \n"
          ]
        }
      ]
    }
  ]
}